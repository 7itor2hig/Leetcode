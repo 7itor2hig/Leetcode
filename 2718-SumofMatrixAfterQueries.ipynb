{
 "cells": [
  {
   "cell_type": "markdown",
   "id": "0ef0e58e-43c5-4502-a4b7-36d11cd5133d",
   "metadata": {},
   "source": [
    "2718. Sum of Matrix After Queries\n",
    "Medium\n",
    "Topics\n",
    "premium lock iconCompanies\n",
    "Hint\n",
    "\n",
    "You are given an integer n and a 0-indexed 2D array queries where queries[i] = [typei, indexi, vali].\n",
    "\n",
    "Initially, there is a 0-indexed n x n matrix filled with 0's. For each query, you must apply one of the following changes:\n",
    "\n",
    "    if typei == 0, set the values in the row with indexi to vali, overwriting any previous values.\n",
    "    if typei == 1, set the values in the column with indexi to vali, overwriting any previous values.\n",
    "\n",
    "Return the sum of integers in the matrix after all queries are applied.\n",
    "\n",
    " \n",
    "\n",
    "Example 1:\n",
    "\n",
    "Input: n = 3, queries = [[0,0,1],[1,2,2],[0,2,3],[1,0,4]]\n",
    "Output: 23\n",
    "Explanation: The image above describes the matrix after each query. The sum of the matrix after all queries are applied is 23. \n",
    "\n",
    "Example 2:\n",
    "\n",
    "Input: n = 3, queries = [[0,0,4],[0,1,2],[1,0,1],[0,2,3],[1,2,1]]\n",
    "Output: 17\n",
    "Explanation: The image above describes the matrix after each query. The sum of the matrix after all queries are applied is 17.\n",
    "\n",
    " \n",
    "\n",
    "Constraints:\n",
    "\n",
    "    1 <= n <= 104\n",
    "    1 <= queries.length <= 5 * 104\n",
    "    queries[i].length == 3\n",
    "    0 <= typei <= 1\n",
    "    0 <= indexi < n\n",
    "    0 <= vali <= 105\n",
    "\n"
   ]
  },
  {
   "cell_type": "code",
   "execution_count": 1,
   "id": "94cf31f6-005e-42f3-8089-ef18a138a1e0",
   "metadata": {},
   "outputs": [],
   "source": [
    "import numpy as np"
   ]
  },
  {
   "cell_type": "code",
   "execution_count": 9,
   "id": "85d09099-d510-4393-88b9-6cedbf3d808a",
   "metadata": {},
   "outputs": [],
   "source": [
    "matrix = np.zeros((3,3))"
   ]
  },
  {
   "cell_type": "code",
   "execution_count": 10,
   "id": "88e5945d-7677-42b6-9005-31f51dce3f33",
   "metadata": {},
   "outputs": [
    {
     "data": {
      "text/plain": [
       "array([[0., 0., 0.],\n",
       "       [0., 0., 0.],\n",
       "       [0., 0., 0.]])"
      ]
     },
     "execution_count": 10,
     "metadata": {},
     "output_type": "execute_result"
    }
   ],
   "source": [
    "matrix"
   ]
  },
  {
   "cell_type": "raw",
   "id": "8d387cd7-11e9-4710-bc2c-2908c63bd49f",
   "metadata": {},
   "source": [
    "type:\n",
    "1 = row\n",
    "2 = column\n",
    "\n",
    "[[type,index,value]]"
   ]
  },
  {
   "cell_type": "code",
   "execution_count": 42,
   "id": "b9fd7788-c3a4-4f28-8687-b227ce5e0b50",
   "metadata": {},
   "outputs": [],
   "source": [
    "n = 3\n",
    "queries = [[0,0,1],[1,2,2],[0,2,3],[1,0,4]]\n",
    "\n",
    "matrix = np.zeros((n,n))\n",
    "\n",
    "for query in queries:\n",
    "    index = query[1]\n",
    "    value = query[2]\n",
    "\n",
    "    if query[0] == 0:\n",
    "        matrix[index,:] = value\n",
    "    else:\n",
    "        matrix[:,index] = value\n",
    "\n",
    "output = int(np.sum(matrix))"
   ]
  },
  {
   "cell_type": "code",
   "execution_count": 43,
   "id": "ee251502-d56b-46ce-9054-2297ff35d230",
   "metadata": {},
   "outputs": [
    {
     "data": {
      "text/plain": [
       "23"
      ]
     },
     "execution_count": 43,
     "metadata": {},
     "output_type": "execute_result"
    }
   ],
   "source": [
    "output"
   ]
  },
  {
   "cell_type": "code",
   "execution_count": 45,
   "id": "04ac0bdc-91f6-469d-b8a3-ed531478c1a1",
   "metadata": {},
   "outputs": [],
   "source": [
    "def matrixSumQueries(n, queries):\n",
    "    matrix = np.zeros((n,n))\n",
    "\n",
    "    for query in queries:\n",
    "        index = query[1]\n",
    "        value = query[2]\n",
    "\n",
    "        if query[0] == 0:\n",
    "            matrix[index,:] = value\n",
    "\n",
    "        else:\n",
    "            matrix[:,index] = value\n",
    "\n",
    "    return int(np.sum(matrix))"
   ]
  },
  {
   "cell_type": "code",
   "execution_count": 46,
   "id": "3da72789-af41-4cd3-8cf8-e97fbea1270b",
   "metadata": {},
   "outputs": [
    {
     "data": {
      "text/plain": [
       "23"
      ]
     },
     "execution_count": 46,
     "metadata": {},
     "output_type": "execute_result"
    }
   ],
   "source": [
    "n = 3\n",
    "queries = [[0,0,1],[1,2,2],[0,2,3],[1,0,4]]\n",
    "matrixSumQueries(n, queries)"
   ]
  },
  {
   "cell_type": "code",
   "execution_count": 48,
   "id": "72b85a65-ccd6-44ba-81f0-ab63ce0a4430",
   "metadata": {},
   "outputs": [
    {
     "data": {
      "text/plain": [
       "17"
      ]
     },
     "execution_count": 48,
     "metadata": {},
     "output_type": "execute_result"
    }
   ],
   "source": [
    "n = 3\n",
    "queries = [[0,0,4],[0,1,2],[1,0,1],[0,2,3],[1,2,1]]\n",
    "matrixSumQueries(n, queries)"
   ]
  },
  {
   "cell_type": "code",
   "execution_count": null,
   "id": "2aedc283-b944-4df3-ae69-653007b924d2",
   "metadata": {},
   "outputs": [],
   "source": []
  }
 ],
 "metadata": {
  "kernelspec": {
   "display_name": "Python 3 (ipykernel)",
   "language": "python",
   "name": "python3"
  },
  "language_info": {
   "codemirror_mode": {
    "name": "ipython",
    "version": 3
   },
   "file_extension": ".py",
   "mimetype": "text/x-python",
   "name": "python",
   "nbconvert_exporter": "python",
   "pygments_lexer": "ipython3",
   "version": "3.12.2"
  }
 },
 "nbformat": 4,
 "nbformat_minor": 5
}

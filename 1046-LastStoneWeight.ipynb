{
 "cells": [
  {
   "cell_type": "markdown",
   "id": "8d5c6d57-2938-4def-a520-126db507712a",
   "metadata": {},
   "source": [
    "1046. Last Stone Weight\n",
    "Easy\n",
    "Topics\n",
    "premium lock iconCompanies\n",
    "Hint\n",
    "\n",
    "You are given an array of integers stones where stones[i] is the weight of the ith stone.\n",
    "\n",
    "We are playing a game with the stones. On each turn, we choose the heaviest two stones and smash them together. Suppose the heaviest two stones have weights x and y with x <= y. The result of this smash is:\n",
    "\n",
    "    If x == y, both stones are destroyed, and\n",
    "    If x != y, the stone of weight x is destroyed, and the stone of weight y has new weight y - x.\n",
    "\n",
    "At the end of the game, there is at most one stone left.\n",
    "\n",
    "Return the weight of the last remaining stone. If there are no stones left, return 0.\n",
    "\n",
    " \n",
    "\n",
    "Example 1:\n",
    "\n",
    "Input: stones = [2,7,4,1,8,1]\n",
    "Output: 1\n",
    "Explanation: \n",
    "We combine 7 and 8 to get 1 so the array converts to [2,4,1,1,1] then,\n",
    "we combine 2 and 4 to get 2 so the array converts to [2,1,1,1] then,\n",
    "we combine 2 and 1 to get 1 so the array converts to [1,1,1] then,\n",
    "we combine 1 and 1 to get 0 so the array converts to [1] then that's the value of the last stone.\n",
    "\n",
    "Example 2:\n",
    "\n",
    "Input: stones = [1]\n",
    "Output: 1\n",
    "\n",
    " \n",
    "\n",
    "Constraints:\n",
    "\n",
    "    1 <= stones.length <= 30\n",
    "    1 <= stones[i] <= 1000\n",
    "\n"
   ]
  },
  {
   "cell_type": "code",
   "execution_count": 49,
   "id": "5363cb34-a906-420c-9e5a-138f2582fb28",
   "metadata": {},
   "outputs": [],
   "source": [
    "def lastStoneWeight(stones):\n",
    "    for i in range(len(stones)):\n",
    "        if len(stones) == 0:\n",
    "            return 0\n",
    "        \n",
    "        if len(stones) == 1:\n",
    "            break\n",
    "\n",
    "        heaviest = stones.pop(stones.index(max(stones)))\n",
    "        second_heaviest = stones.pop(stones.index(max(stones)))\n",
    "\n",
    "        if heaviest == second_heaviest:\n",
    "            continue\n",
    "\n",
    "        else:\n",
    "            stones.append(heaviest - second_heaviest)\n",
    "\n",
    "    return stones[0]"
   ]
  },
  {
   "cell_type": "code",
   "execution_count": 51,
   "id": "a76d7366-b3b5-4512-9b73-9b03f86db923",
   "metadata": {},
   "outputs": [
    {
     "data": {
      "text/plain": [
       "1"
      ]
     },
     "execution_count": 51,
     "metadata": {},
     "output_type": "execute_result"
    }
   ],
   "source": [
    "stones = [2,7,4,1,8,1]\n",
    "lastStoneWeight(stones)"
   ]
  },
  {
   "cell_type": "code",
   "execution_count": 52,
   "id": "49cc160d-4f4d-45ed-bee3-f7efc4dda2a4",
   "metadata": {},
   "outputs": [
    {
     "data": {
      "text/plain": [
       "1"
      ]
     },
     "execution_count": 52,
     "metadata": {},
     "output_type": "execute_result"
    }
   ],
   "source": [
    "stones = [1]\n",
    "lastStoneWeight(stones)"
   ]
  },
  {
   "cell_type": "code",
   "execution_count": 53,
   "id": "0714c591-3308-498f-ba33-9e1a7da45b2b",
   "metadata": {},
   "outputs": [
    {
     "data": {
      "text/plain": [
       "0"
      ]
     },
     "execution_count": 53,
     "metadata": {},
     "output_type": "execute_result"
    }
   ],
   "source": [
    "stones = [2,2]\n",
    "lastStoneWeight(stones)"
   ]
  },
  {
   "cell_type": "code",
   "execution_count": null,
   "id": "3c0c51fe-48d1-4801-9450-75dd0398840c",
   "metadata": {},
   "outputs": [],
   "source": []
  }
 ],
 "metadata": {
  "kernelspec": {
   "display_name": "Python 3 (ipykernel)",
   "language": "python",
   "name": "python3"
  },
  "language_info": {
   "codemirror_mode": {
    "name": "ipython",
    "version": 3
   },
   "file_extension": ".py",
   "mimetype": "text/x-python",
   "name": "python",
   "nbconvert_exporter": "python",
   "pygments_lexer": "ipython3",
   "version": "3.12.2"
  }
 },
 "nbformat": 4,
 "nbformat_minor": 5
}
